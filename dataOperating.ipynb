{
 "cells": [
  {
   "cell_type": "code",
   "execution_count": 1,
   "source": [
    "# Importing required modules\r\n",
    "import json\r\n",
    "\r\n",
    "from prettytable import PrettyTable\r\n",
    "from stringMatcher import levenshteinDistanceRatio\r\n",
    "from time import time\r\n",
    "\r\n",
    "# Making an object of prettytable\r\n",
    "table = PrettyTable(field_names=[\"SpectatorID\", \"Out\", \"Number Of Comments\", \"Average\", \"Number Of Balls\"])"
   ],
   "outputs": [],
   "metadata": {}
  },
  {
   "cell_type": "code",
   "execution_count": 2,
   "source": [
    "#Loading database in the memory\r\n",
    "data = json.load(open(\"dataKeeper/dataBase.json\", \"rb\"))"
   ],
   "outputs": [],
   "metadata": {}
  },
  {
   "cell_type": "code",
   "execution_count": 3,
   "source": [
    "#Loading global secondary index in the memory\r\n",
    "GSI = json.load(open(\"dataKeeper/dataBase_GSI.json\", \"rb\"))"
   ],
   "outputs": [],
   "metadata": {}
  },
  {
   "cell_type": "code",
   "execution_count": 4,
   "source": [
    "# Creating a function to get the closest match of searchString\r\n",
    "def getClosestMatch(searchString):\r\n",
    "    # Initializing the time counter\r\n",
    "    tic = time()\r\n",
    "    \r\n",
    "    # Finding closest match of the searchString from the Global Secondary Index\r\n",
    "    matchRatios = [levenshteinDistanceRatio(searchString, KEY) for KEY, _ in GSI.items()]\r\n",
    "    bestMatchRatio = max(matchRatios)\r\n",
    "\r\n",
    "    # Match ratio < 50% => No record\r\n",
    "    if (bestMatchRatio < 0.5):\r\n",
    "        return {\r\n",
    "            \"response code\" : 404,\r\n",
    "            \"search time\"   : f\"{time()-tic} seconds\",\r\n",
    "            \"message\"       : \"error\",\r\n",
    "            \"response body\" : \"no match found\"\r\n",
    "        }\r\n",
    "    \r\n",
    "    # Match ratio >= 50% => Follow the code below\r\n",
    "    bestMatchRatio_index = matchRatios.index(bestMatchRatio)\r\n",
    "\r\n",
    "    # Finding best match for searchString\r\n",
    "    bestMatch_PlayerName = list(GSI)[bestMatchRatio_index]\r\n",
    "    bestMatch_PlayerId = GSI[bestMatch_PlayerName]\r\n",
    "\r\n",
    "    # Using playerId as primary key, retrieving the details \r\n",
    "    playerInfo = data[str(bestMatch_PlayerId)]\r\n",
    "    \r\n",
    "    # Pointing one search time completed\r\n",
    "    toc = time()\r\n",
    "\r\n",
    "    # Adding player name to the response\r\n",
    "    playerInfo[\"batsman\"] = bestMatch_PlayerName\r\n",
    "    \r\n",
    "    # Framing response model\r\n",
    "    responseModel = {\r\n",
    "        \"response code\" : 200,\r\n",
    "        \"search time\"   : f\"{toc-tic} seconds\",\r\n",
    "        \"message\"       : \"success\",\r\n",
    "        \"response body\" : playerInfo\r\n",
    "    }\r\n",
    "    \r\n",
    "    return responseModel"
   ],
   "outputs": [],
   "metadata": {}
  },
  {
   "cell_type": "code",
   "execution_count": 5,
   "source": [
    "# Creating a function to make requests for data retrieval\r\n",
    "def request(getPlayer=\"\"):\r\n",
    "    # Player name should be a string\r\n",
    "    getPlayer = str(getPlayer)\r\n",
    "    \r\n",
    "    # Checking if the player name is valid or not\r\n",
    "    if(getPlayer.replace(\" \", \"\").strip() == \"\"):\r\n",
    "        return f\"Invalid Player Name\"\r\n",
    "    \r\n",
    "    # Requesting to fetch the player info\r\n",
    "    response = getClosestMatch(searchString = getPlayer)\r\n",
    "\r\n",
    "    # Checking the response code\r\n",
    "    if response[\"response code\"] == 404:\r\n",
    "        return f\"ERROR: No record found\"\r\n",
    "    \r\n",
    "    # Populating table by adding row\r\n",
    "    o_row = response[\"response body\"][\"out\"]\r\n",
    "    i_row = response[\"response body\"][\"number_of_comments\"]\r\n",
    "    for r in o_row:\r\n",
    "        try : specComments = i_row[0]['number_of_comments']\r\n",
    "        except : specComments = \"\"\r\n",
    "        break\r\n",
    "    \r\n",
    "    table.add_row([r[\"spectatorId\"], r[\"out\"], specComments, r[\"average\"], response['response body']['onfield']['balls']])\r\n",
    "               \r\n",
    "    toBePrinted = f\"\\\r\n",
    "    Batsman : {response['response body']['batsman']}\\n\\\r\n",
    "    Strike Rate : {response['response body']['strike_rate']}\\n\\\r\n",
    "    Total Runs : {response['response body']['onfield']['runs']}\\n\\\r\n",
    "    \"    \r\n",
    "    print(toBePrinted)\r\n",
    "    print(table)\r\n",
    "    print(table.clear_rows())\r\n"
   ],
   "outputs": [],
   "metadata": {}
  },
  {
   "cell_type": "code",
   "execution_count": 6,
   "source": [
    "# Making a request to fetch data\r\n",
    "request(getPlayer=\"love dhoni\")"
   ],
   "outputs": [
    {
     "output_type": "stream",
     "name": "stdout",
     "text": [
      "    Batsman : MS Dhoni\n",
      "    Strike Rate : 138.8022458\n",
      "    Total Runs : 4450\n",
      "    \n",
      "+-------------+-----+--------------------+-------------+-----------------+\n",
      "| SpectatorID | Out | Number Of Comments |   Average   | Number Of Balls |\n",
      "+-------------+-----+--------------------+-------------+-----------------+\n",
      "|      6      | 118 |         2          | 37.71186441 |       3206      |\n",
      "+-------------+-----+--------------------+-------------+-----------------+\n",
      "None\n"
     ]
    }
   ],
   "metadata": {}
  }
 ],
 "metadata": {
  "kernelspec": {
   "name": "python3",
   "display_name": "Python 3.9.6 64-bit ('.venv': venv)"
  },
  "language_info": {
   "codemirror_mode": {
    "name": "ipython",
    "version": 3
   },
   "file_extension": ".py",
   "mimetype": "text/x-python",
   "name": "python",
   "nbconvert_exporter": "python",
   "pygments_lexer": "ipython3",
   "version": "3.9.6"
  },
  "interpreter": {
   "hash": "3e776054dedf9aa5cc1c1a3aceaca9b14668433aaf8c48ad8814cc5ae11f596e"
  }
 },
 "nbformat": 4,
 "nbformat_minor": 5
}