{
 "cells": [
  {
   "cell_type": "code",
   "execution_count": 31,
   "source": [
    "# Importing the required modules\r\n",
    "import pandas as pd\r\n",
    "from collections import defaultdict\r\n",
    "from os import getcwd"
   ],
   "outputs": [],
   "metadata": {}
  },
  {
   "cell_type": "code",
   "execution_count": 32,
   "source": [
    "# Defining path to the different .csv files \r\n",
    "PATH_TO_PLAYERS = f\"{getcwd()}/dataKeeper/players.csv\"\r\n",
    "PATH_TO_ONFIELD = f\"{getcwd()}/dataKeeper/onfield.csv\"\r\n",
    "PATH_TO_ONFIELD2 = f\"{getcwd()}/dataKeeper/onfield2.csv\"\r\n",
    "PATH_TO_COMMENTS = f\"{getcwd()}/dataKeeper/comments.csv\""
   ],
   "outputs": [],
   "metadata": {}
  },
  {
   "cell_type": "code",
   "execution_count": 33,
   "source": [
    "# Reading data from players.csv file and gettiing it's columns as a list\r\n",
    "df_players = pd.read_csv(PATH_TO_PLAYERS)\r\n",
    "players_columns = df_players.columns.tolist()\r\n",
    "print(f\"COLUMNS : {players_columns}\")"
   ],
   "outputs": [
    {
     "output_type": "stream",
     "name": "stdout",
     "text": [
      "COLUMNS : ['playerId', 'batsman', 'strike_rate']\n"
     ]
    }
   ],
   "metadata": {}
  },
  {
   "cell_type": "code",
   "execution_count": 34,
   "source": [
    "# Reading data from onfield.csv file and getting it;s columns as a list\r\n",
    "df_onfield = pd.read_csv(PATH_TO_ONFIELD)\r\n",
    "onfield_columns = df_onfield.columns.tolist()\r\n",
    "print(f\"COLUMNS : {onfield_columns}\")"
   ],
   "outputs": [
    {
     "output_type": "stream",
     "name": "stdout",
     "text": [
      "COLUMNS : ['playerId', 'total_runs', 'number_of_balls']\n"
     ]
    }
   ],
   "metadata": {}
  },
  {
   "cell_type": "code",
   "execution_count": 35,
   "source": [
    "# Reading data from onfield2.csv file and getting it's columns as a list\r\n",
    "df_onfield2 = pd.read_csv(PATH_TO_ONFIELD2)\r\n",
    "onfield2_columns = df_onfield2.columns.tolist()\r\n",
    "print(f\"COLUMNS : {onfield2_columns}\")"
   ],
   "outputs": [
    {
     "output_type": "stream",
     "name": "stdout",
     "text": [
      "COLUMNS : ['spectatorId', 'playerId', 'average', 'out']\n"
     ]
    }
   ],
   "metadata": {}
  },
  {
   "cell_type": "code",
   "execution_count": 36,
   "source": [
    "# Reading data from comments.csv file and getting it's columns as a list\r\n",
    "df_comments = pd.read_csv(PATH_TO_COMMENTS)\r\n",
    "comments_columns = df_comments.columns.tolist()\r\n",
    "print(f\"COLUMNS : {comments_columns}\")"
   ],
   "outputs": [
    {
     "output_type": "stream",
     "name": "stdout",
     "text": [
      "COLUMNS : ['spectatorId', 'playerId', 'average', 'number_of_comments']\n"
     ]
    }
   ],
   "metadata": {}
  },
  {
   "cell_type": "code",
   "execution_count": 37,
   "source": [
    "# Checking whether columns contains unique values in these dataframes or not\r\n",
    "print(f\" The column 'playerId' is unique in players dataframe: {pd.Series(df_players['playerId']).is_unique}\")\r\n",
    "print(f\" The column 'playerId' is unique in onfield dataframe: {pd.Series(df_onfield['playerId']).is_unique}\")\r\n",
    "print(f\" The column 'spectatorId' is unique in onfield2 dataframe: {pd.Series(df_onfield2['spectatorId']).is_unique}\")\r\n",
    "print(f\" The column 'spectratorId' is unique in comments dataframe: {pd.Series(df_comments['spectatorId']).is_unique}\")\r\n"
   ],
   "outputs": [
    {
     "output_type": "stream",
     "name": "stdout",
     "text": [
      " The column 'playerId' is unique in players dataframe: True\n",
      " The column 'playerId' is unique in onfield dataframe: True\n",
      " The column 'spectatorId' is unique in onfield2 dataframe: False\n",
      " The column 'spectratorId' is unique in comments dataframe: False\n"
     ]
    }
   ],
   "metadata": {}
  },
  {
   "cell_type": "code",
   "execution_count": 38,
   "source": [
    "# Using playerId key as a primary key and sorting players and onfield dataframe according to it, as it is unique\r\n",
    "df_players_sorted = df_players.sort_values(by=['playerId'])\r\n",
    "df_onfield_sorted  = df_onfield.sort_values(by=['playerId'])"
   ],
   "outputs": [],
   "metadata": {}
  },
  {
   "cell_type": "code",
   "execution_count": 39,
   "source": [
    "# Players dataframe\r\n",
    "playerIds    = df_players_sorted[\"playerId\"].tolist()\r\n",
    "playerNames = df_players_sorted[\"batsman\"].tolist()\r\n",
    "playerStrikeRates = df_players[\"strike_rate\"].tolist()\r\n",
    "\r\n",
    "# Onfield dataframe\r\n",
    "total_runs  = df_onfield_sorted[\"total_runs\"].tolist()\r\n",
    "number_of_balls  = df_onfield_sorted[\"number_of_balls\"].tolist()"
   ],
   "outputs": [],
   "metadata": {}
  },
  {
   "cell_type": "code",
   "execution_count": 40,
   "source": [
    "# Creating a playerDict dictionary\r\n",
    "playerDict = {}\r\n",
    "global_secondaryIndex = {}\r\n",
    "for indx, playerId in enumerate(playerIds):\r\n",
    "    playerDict[playerId] = {\r\n",
    "        \"strike_rate\" : playerStrikeRates[indx],\r\n",
    "        \"onfield\" : {\r\n",
    "            \"runs\" : total_runs[indx], \r\n",
    "            \"balls\" : number_of_balls[indx]\r\n",
    "        }\r\n",
    "    }\r\n",
    "    \r\n",
    "    global_secondaryIndex[playerNames[indx]] = playerId"
   ],
   "outputs": [],
   "metadata": {}
  },
  {
   "cell_type": "code",
   "execution_count": 41,
   "source": [
    "# Deleting unnecessary large data holding variables\r\n",
    "del playerIds\r\n",
    "del playerNames\r\n",
    "del playerStrikeRates\r\n",
    "del total_runs\r\n",
    "del number_of_balls"
   ],
   "outputs": [],
   "metadata": {}
  },
  {
   "cell_type": "code",
   "execution_count": 42,
   "source": [
    "# Converting all columns of onfield2 table into separate lists\r\n",
    "spectatorIds       = df_onfield2[\"spectatorId\"].tolist()\r\n",
    "playerIds      = df_onfield2[\"playerId\"].tolist()\r\n",
    "playerAverages  = df_onfield2[\"average\"].tolist()\r\n",
    "playerOuts    = df_onfield2[\"out\"].tolist()\r\n",
    "\r\n",
    "# Creating a dictionary and populating it\r\n",
    "performance = {}\r\n",
    "for indx, mid in enumerate(playerIds):\r\n",
    "    # Checking if the data to be feeded is already there or not\r\n",
    "    try   : _ = performance[mid]\r\n",
    "    except: \r\n",
    "        performance[mid]   = [\r\n",
    "            {\r\n",
    "                \"spectatorId\" : spectatorIds[indx],\r\n",
    "                \"out\" : playerOuts[indx],\r\n",
    "                \"average\" : playerAverages[indx]\r\n",
    "            }\r\n",
    "        ]\r\n",
    "    \r\n",
    "    try   : _ = performance[mid][spectatorIds[indx]]\r\n",
    "    except: performance[mid].append(\r\n",
    "            {\r\n",
    "                \"spectatorId\" : spectatorIds[indx],\r\n",
    "                \"out\" : playerOuts[indx],\r\n",
    "                \"average\" : playerAverages[indx]\r\n",
    "            }\r\n",
    "        )\r\n",
    "\r\n",
    "# Adding the data from performance to playerDict\r\n",
    "for mid, _ in playerDict.items():\r\n",
    "    try   : playerDict[mid][\"out\"] = performance[mid][1:]\r\n",
    "    except: \r\n",
    "        # Player exists\r\n",
    "        try   : playerDict[mid][\"out\"] = []\r\n",
    "        # Player doesn't exist\r\n",
    "        except: pass "
   ],
   "outputs": [],
   "metadata": {}
  },
  {
   "cell_type": "code",
   "execution_count": 43,
   "source": [
    "# Converting all columns of comments table into separate lists\r\n",
    "spectatorIds    = df_comments[\"spectatorId\"].tolist()\r\n",
    "playerIds   = df_comments[\"playerId\"].tolist()\r\n",
    "spectator_comments   = df_comments[\"number_of_comments\"].tolist()\r\n",
    "playerAverages = df_comments[\"average\"].tolist()\r\n",
    "\r\n",
    "# Creating a dictionary and populating it\r\n",
    "commenting = {}\r\n",
    "for indx, mid in enumerate(playerIds):\r\n",
    "    # Checking if the data to be feeded is already there or not\r\n",
    "    try   : _ = commenting[mid]\r\n",
    "    except: commenting[mid] = [\r\n",
    "        {\r\n",
    "            \"spectatorId\" : spectatorIds[indx],\r\n",
    "            \"number_of_comments\" : spectator_comments[indx],\r\n",
    "            \"average\" : playerAverages[indx]\r\n",
    "        }\r\n",
    "    ]\r\n",
    "    \r\n",
    "    try   : _ = commenting[mid][spectatorIds[indx]]\r\n",
    "    except: commenting[mid].append(\r\n",
    "            {\r\n",
    "                \"spectatorId\" : spectatorIds[indx],\r\n",
    "                \"number_of_comments\" : spectator_comments[indx],\r\n",
    "                \"average\" : playerAverages[indx]\r\n",
    "            }\r\n",
    "        )\r\n",
    "\r\n",
    "# Adding the data from commenting to playerDict\r\n",
    "for mid, _ in playerDict.items():\r\n",
    "    try   : playerDict[mid][\"number_of_comments\"] = commenting[mid][1:]\r\n",
    "    except: \r\n",
    "        # Player exists\r\n",
    "        try : playerDict[mid][\"number_of_comments\"] = [] \r\n",
    "        # Player doesn't exist\r\n",
    "        except: del global_secondaryIndex[mid]"
   ],
   "outputs": [],
   "metadata": {}
  },
  {
   "cell_type": "code",
   "execution_count": 44,
   "source": [
    "# Importing needed module \r\n",
    "# Uploading data and acknowledging the updation\r\n",
    "import json\r\n",
    "print(\"[INFO] Uploading player Data into the disk...\")\r\n",
    "with open('dataKeeper/dataBase.json', 'w') as fp:\r\n",
    "    json.dump(playerDict, fp, sort_keys=True, indent=4)\r\n",
    "print(\"[INFO] Uploading Global Secondary Index Data into the disk...\")\r\n",
    "with open('dataKeeper/dataBase_GSI.json', 'w') as fp:\r\n",
    "    json.dump(global_secondaryIndex, fp, sort_keys=True, indent=4)"
   ],
   "outputs": [
    {
     "output_type": "stream",
     "name": "stdout",
     "text": [
      "[INFO] Uploading player Data into the disk...\n",
      "[INFO] Uploading Global Secondary Index Data into the disk...\n"
     ]
    }
   ],
   "metadata": {}
  },
  {
   "cell_type": "code",
   "execution_count": 45,
   "source": [
    "# Running stringMatcher.py\r\n",
    "# Importing required module\r\n",
    "import numpy as np\r\n",
    "\r\n",
    "# Creating the function below to measure the minimum number of edits required to convert one string into other\r\n",
    "def levenshteinDistanceRatio(s, t, ratio_calc = True):\r\n",
    "\r\n",
    "    # Initializing a matrix of zeros\r\n",
    "    rows = len(s)+1\r\n",
    "    cols = len(t)+1\r\n",
    "    distance = np.zeros((rows,cols),dtype = int)\r\n",
    "\r\n",
    "    # Filling it with the indices of each character of both strings\r\n",
    "    for i in range(1, rows):\r\n",
    "        for k in range(1,cols):\r\n",
    "            distance[i][0] = i\r\n",
    "            distance[0][k] = k\r\n",
    "\r\n",
    "    # Looping over it to compute the cost of single-character edits    \r\n",
    "    for col in range(1, cols):\r\n",
    "        for row in range(1, rows):\r\n",
    "            if s[row-1] == t[col-1]:\r\n",
    "                # same charcter will cost 0\r\n",
    "                cost = 0 \r\n",
    "            else:                \r\n",
    "                # Handling the results according to Python Levenshtein package\r\n",
    "                if ratio_calc == True: cost = 2\r\n",
    "                else: cost = 1\r\n",
    "            \r\n",
    "            # Finding least of single-character editing cost(deletion,insertion,substitution)\r\n",
    "            distance[row][col] = min(distance[row-1][col] + 1,distance[row][col-1] + 1,distance[row-1][col-1] + cost)      \r\n",
    "    \r\n",
    "    # Lastly, Computing the Levenshtein Distance Ratio\r\n",
    "    Ratio = ((len(s)+len(t)) - distance[row][col]) / (len(s)+len(t))\r\n",
    "    return Ratio"
   ],
   "outputs": [],
   "metadata": {}
  }
 ],
 "metadata": {
  "kernelspec": {
   "name": "python3",
   "display_name": "Python 3.9.6 64-bit ('.venv': venv)"
  },
  "language_info": {
   "codemirror_mode": {
    "name": "ipython",
    "version": 3
   },
   "file_extension": ".py",
   "mimetype": "text/x-python",
   "name": "python",
   "nbconvert_exporter": "python",
   "pygments_lexer": "ipython3",
   "version": "3.9.6"
  },
  "interpreter": {
   "hash": "3e776054dedf9aa5cc1c1a3aceaca9b14668433aaf8c48ad8814cc5ae11f596e"
  }
 },
 "nbformat": 4,
 "nbformat_minor": 2
}